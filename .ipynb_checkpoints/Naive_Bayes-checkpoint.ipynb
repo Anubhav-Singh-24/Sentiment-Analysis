{
 "cells": [
  {
   "cell_type": "code",
   "execution_count": null,
   "id": "9847e551",
   "metadata": {
    "id": "9847e551"
   },
   "outputs": [],
   "source": [
    "import pandas as pd\n",
    "import numpy as np\n",
    "import matplotlib.pyplot as plt\n",
    "import seaborn as sns\n",
    "import warnings\n",
    "warnings.filterwarnings('ignore')"
   ]
  },
  {
   "cell_type": "code",
   "execution_count": null,
   "id": "ca7ce1a6",
   "metadata": {
    "id": "ca7ce1a6",
    "outputId": "972116a2-9e1c-4cb6-bbf9-97f6761a3830"
   },
   "outputs": [
    {
     "data": {
      "text/html": [
       "<div>\n",
       "<style scoped>\n",
       "    .dataframe tbody tr th:only-of-type {\n",
       "        vertical-align: middle;\n",
       "    }\n",
       "\n",
       "    .dataframe tbody tr th {\n",
       "        vertical-align: top;\n",
       "    }\n",
       "\n",
       "    .dataframe thead th {\n",
       "        text-align: right;\n",
       "    }\n",
       "</style>\n",
       "<table border=\"1\" class=\"dataframe\">\n",
       "  <thead>\n",
       "    <tr style=\"text-align: right;\">\n",
       "      <th></th>\n",
       "      <th>Rating</th>\n",
       "      <th>Review</th>\n",
       "    </tr>\n",
       "  </thead>\n",
       "  <tbody>\n",
       "    <tr>\n",
       "      <th>0</th>\n",
       "      <td>3</td>\n",
       "      <td>Gave this to my dad for a gag gift after direc...</td>\n",
       "    </tr>\n",
       "    <tr>\n",
       "      <th>1</th>\n",
       "      <td>5</td>\n",
       "      <td>I hope a lot of people hear this cd. We need m...</td>\n",
       "    </tr>\n",
       "    <tr>\n",
       "      <th>2</th>\n",
       "      <td>5</td>\n",
       "      <td>I'm reading a lot of reviews saying that this ...</td>\n",
       "    </tr>\n",
       "    <tr>\n",
       "      <th>3</th>\n",
       "      <td>4</td>\n",
       "      <td>The music of Yasunori Misuda is without questi...</td>\n",
       "    </tr>\n",
       "    <tr>\n",
       "      <th>4</th>\n",
       "      <td>5</td>\n",
       "      <td>Probably the greatest soundtrack in history! U...</td>\n",
       "    </tr>\n",
       "  </tbody>\n",
       "</table>\n",
       "</div>"
      ],
      "text/plain": [
       "   Rating                                             Review\n",
       "0       3  Gave this to my dad for a gag gift after direc...\n",
       "1       5  I hope a lot of people hear this cd. We need m...\n",
       "2       5  I'm reading a lot of reviews saying that this ...\n",
       "3       4  The music of Yasunori Misuda is without questi...\n",
       "4       5  Probably the greatest soundtrack in history! U..."
      ]
     },
     "execution_count": 4,
     "metadata": {},
     "output_type": "execute_result"
    }
   ],
   "source": [
    "amazon_data = r\"C:\\Users\\KIIT\\Desktop\\train.csv\"\n",
    "data = pd.read_csv(amazon_data,header=None,names=['Rating','Title','Review'])\n",
    "data = data[0:100000]\n",
    "data = data[[\"Rating\",\"Review\"]]\n",
    "data.head()"
   ]
  },
  {
   "cell_type": "code",
   "execution_count": null,
   "id": "cd07c96b",
   "metadata": {
    "id": "cd07c96b",
    "outputId": "7006a799-b13b-414b-dc56-e04e739535e7"
   },
   "outputs": [
    {
     "data": {
      "text/plain": [
       "100000"
      ]
     },
     "execution_count": 3,
     "metadata": {},
     "output_type": "execute_result"
    }
   ],
   "source": [
    "data = data.dropna()\n",
    "len(data)"
   ]
  },
  {
   "cell_type": "code",
   "execution_count": null,
   "id": "37bb141a",
   "metadata": {
    "id": "37bb141a",
    "outputId": "e7b37729-a557-4a99-cd5c-834c37b1b5cb"
   },
   "outputs": [
    {
     "data": {
      "text/html": [
       "<div>\n",
       "<style scoped>\n",
       "    .dataframe tbody tr th:only-of-type {\n",
       "        vertical-align: middle;\n",
       "    }\n",
       "\n",
       "    .dataframe tbody tr th {\n",
       "        vertical-align: top;\n",
       "    }\n",
       "\n",
       "    .dataframe thead th {\n",
       "        text-align: right;\n",
       "    }\n",
       "</style>\n",
       "<table border=\"1\" class=\"dataframe\">\n",
       "  <thead>\n",
       "    <tr style=\"text-align: right;\">\n",
       "      <th></th>\n",
       "      <th>Rating</th>\n",
       "      <th>Review</th>\n",
       "    </tr>\n",
       "  </thead>\n",
       "  <tbody>\n",
       "    <tr>\n",
       "      <th>1</th>\n",
       "      <td>5</td>\n",
       "      <td>I hope a lot of people hear this cd. We need m...</td>\n",
       "    </tr>\n",
       "    <tr>\n",
       "      <th>2</th>\n",
       "      <td>5</td>\n",
       "      <td>I'm reading a lot of reviews saying that this ...</td>\n",
       "    </tr>\n",
       "    <tr>\n",
       "      <th>3</th>\n",
       "      <td>4</td>\n",
       "      <td>The music of Yasunori Misuda is without questi...</td>\n",
       "    </tr>\n",
       "    <tr>\n",
       "      <th>4</th>\n",
       "      <td>5</td>\n",
       "      <td>Probably the greatest soundtrack in history! U...</td>\n",
       "    </tr>\n",
       "    <tr>\n",
       "      <th>5</th>\n",
       "      <td>5</td>\n",
       "      <td>There's a reason this CD is so expensive, even...</td>\n",
       "    </tr>\n",
       "  </tbody>\n",
       "</table>\n",
       "</div>"
      ],
      "text/plain": [
       "   Rating                                             Review\n",
       "1       5  I hope a lot of people hear this cd. We need m...\n",
       "2       5  I'm reading a lot of reviews saying that this ...\n",
       "3       4  The music of Yasunori Misuda is without questi...\n",
       "4       5  Probably the greatest soundtrack in history! U...\n",
       "5       5  There's a reason this CD is so expensive, even..."
      ]
     },
     "execution_count": 4,
     "metadata": {},
     "output_type": "execute_result"
    }
   ],
   "source": [
    "data_positive=data[data[\"Rating\"].isin([4,5])]\n",
    "data_positive.head()"
   ]
  },
  {
   "cell_type": "code",
   "execution_count": null,
   "id": "1b4a95fb",
   "metadata": {
    "id": "1b4a95fb",
    "outputId": "772cff44-8ffd-4dbe-995d-5212a1d82f4a"
   },
   "outputs": [
    {
     "data": {
      "text/html": [
       "<div>\n",
       "<style scoped>\n",
       "    .dataframe tbody tr th:only-of-type {\n",
       "        vertical-align: middle;\n",
       "    }\n",
       "\n",
       "    .dataframe tbody tr th {\n",
       "        vertical-align: top;\n",
       "    }\n",
       "\n",
       "    .dataframe thead th {\n",
       "        text-align: right;\n",
       "    }\n",
       "</style>\n",
       "<table border=\"1\" class=\"dataframe\">\n",
       "  <thead>\n",
       "    <tr style=\"text-align: right;\">\n",
       "      <th></th>\n",
       "      <th>Rating</th>\n",
       "      <th>Review</th>\n",
       "    </tr>\n",
       "  </thead>\n",
       "  <tbody>\n",
       "    <tr>\n",
       "      <th>6</th>\n",
       "      <td>1</td>\n",
       "      <td>This is a self-published book, and if you want...</td>\n",
       "    </tr>\n",
       "    <tr>\n",
       "      <th>8</th>\n",
       "      <td>1</td>\n",
       "      <td>A complete waste of time. Typographical errors...</td>\n",
       "    </tr>\n",
       "    <tr>\n",
       "      <th>9</th>\n",
       "      <td>1</td>\n",
       "      <td>I guess you have to be a romance novel lover f...</td>\n",
       "    </tr>\n",
       "    <tr>\n",
       "      <th>10</th>\n",
       "      <td>1</td>\n",
       "      <td>I feel I have to write to keep others from was...</td>\n",
       "    </tr>\n",
       "    <tr>\n",
       "      <th>14</th>\n",
       "      <td>2</td>\n",
       "      <td>sizes are much smaller than what is recomended...</td>\n",
       "    </tr>\n",
       "  </tbody>\n",
       "</table>\n",
       "</div>"
      ],
      "text/plain": [
       "    Rating                                             Review\n",
       "6        1  This is a self-published book, and if you want...\n",
       "8        1  A complete waste of time. Typographical errors...\n",
       "9        1  I guess you have to be a romance novel lover f...\n",
       "10       1  I feel I have to write to keep others from was...\n",
       "14       2  sizes are much smaller than what is recomended..."
      ]
     },
     "execution_count": 5,
     "metadata": {},
     "output_type": "execute_result"
    }
   ],
   "source": [
    "data_negative=data[data[\"Rating\"].isin([1,2])]\n",
    "data_negative.head()"
   ]
  },
  {
   "cell_type": "code",
   "execution_count": null,
   "id": "b4228d77",
   "metadata": {
    "id": "b4228d77",
    "outputId": "475234e6-2e17-4e14-c54c-9087994a70f5"
   },
   "outputs": [
    {
     "data": {
      "text/plain": [
       "3    20558\n",
       "5    20161\n",
       "2    20107\n",
       "4    19986\n",
       "1    19188\n",
       "Name: Rating, dtype: int64"
      ]
     },
     "execution_count": 6,
     "metadata": {},
     "output_type": "execute_result"
    }
   ],
   "source": [
    "data.Rating.value_counts()"
   ]
  },
  {
   "cell_type": "code",
   "execution_count": null,
   "id": "4af09f7a",
   "metadata": {
    "id": "4af09f7a",
    "outputId": "ae9b65a2-2eb1-420c-f2a4-4b64dc7c4ccc"
   },
   "outputs": [
    {
     "data": {
      "text/plain": [
       "<AxesSubplot:>"
      ]
     },
     "execution_count": 7,
     "metadata": {},
     "output_type": "execute_result"
    },
    {
     "data": {
      "image/png": "[encoded data removed]",
      "text/plain": [
       "<Figure size 432x288 with 1 Axes>"
      ]
     },
     "metadata": {
      "needs_background": "light"
     },
     "output_type": "display_data"
    }
   ],
   "source": [
    "sns.barplot(x=data.Rating.value_counts().index,y=data.Rating.value_counts().values)"
   ]
  },
  {
   "cell_type": "code",
   "execution_count": null,
   "id": "34a735f0",
   "metadata": {
    "id": "34a735f0",
    "outputId": "0eb8289b-e4f2-4e14-dcaf-b51c8c9ed1fa"
   },
   "outputs": [
    {
     "data": {
      "text/plain": [
       "(40000, 2)"
      ]
     },
     "execution_count": 8,
     "metadata": {},
     "output_type": "execute_result"
    }
   ],
   "source": [
    "data_filtered=pd.concat([data_positive[:20000],data_negative[:20000]])\n",
    "data_filtered.shape"
   ]
  },
  {
   "cell_type": "code",
   "execution_count": null,
   "id": "63abe53e",
   "metadata": {
    "id": "63abe53e",
    "outputId": "75f9732b-cca9-406f-88f7-8cb906d7447f"
   },
   "outputs": [
    {
     "data": {
      "text/plain": [
       "<AxesSubplot:>"
      ]
     },
     "execution_count": 9,
     "metadata": {},
     "output_type": "execute_result"
    },
    {
     "data": {
      "image/png": "[encoded data removed]",
      "text/plain": [
       "<Figure size 432x288 with 1 Axes>"
      ]
     },
     "metadata": {
      "needs_background": "light"
     },
     "output_type": "display_data"
    }
   ],
   "source": [
    "sns.barplot(x=data_filtered.Rating.value_counts().index,y=data_filtered.Rating.value_counts().values)"
   ]
  },
  {
   "cell_type": "code",
   "execution_count": null,
   "id": "6111cb14",
   "metadata": {
    "id": "6111cb14",
    "outputId": "cb7b2ce5-d703-40c8-8ced-0d8225e4ee34"
   },
   "outputs": [
    {
     "data": {
      "text/html": [
       "<div>\n",
       "<style scoped>\n",
       "    .dataframe tbody tr th:only-of-type {\n",
       "        vertical-align: middle;\n",
       "    }\n",
       "\n",
       "    .dataframe tbody tr th {\n",
       "        vertical-align: top;\n",
       "    }\n",
       "\n",
       "    .dataframe thead th {\n",
       "        text-align: right;\n",
       "    }\n",
       "</style>\n",
       "<table border=\"1\" class=\"dataframe\">\n",
       "  <thead>\n",
       "    <tr style=\"text-align: right;\">\n",
       "      <th></th>\n",
       "      <th>Rating</th>\n",
       "      <th>Review</th>\n",
       "      <th>r</th>\n",
       "    </tr>\n",
       "  </thead>\n",
       "  <tbody>\n",
       "    <tr>\n",
       "      <th>1</th>\n",
       "      <td>5</td>\n",
       "      <td>I hope a lot of people hear this cd. We need m...</td>\n",
       "      <td>1</td>\n",
       "    </tr>\n",
       "    <tr>\n",
       "      <th>2</th>\n",
       "      <td>5</td>\n",
       "      <td>I'm reading a lot of reviews saying that this ...</td>\n",
       "      <td>1</td>\n",
       "    </tr>\n",
       "    <tr>\n",
       "      <th>3</th>\n",
       "      <td>4</td>\n",
       "      <td>The music of Yasunori Misuda is without questi...</td>\n",
       "      <td>1</td>\n",
       "    </tr>\n",
       "    <tr>\n",
       "      <th>4</th>\n",
       "      <td>5</td>\n",
       "      <td>Probably the greatest soundtrack in history! U...</td>\n",
       "      <td>1</td>\n",
       "    </tr>\n",
       "    <tr>\n",
       "      <th>5</th>\n",
       "      <td>5</td>\n",
       "      <td>There's a reason this CD is so expensive, even...</td>\n",
       "      <td>1</td>\n",
       "    </tr>\n",
       "  </tbody>\n",
       "</table>\n",
       "</div>"
      ],
      "text/plain": [
       "   Rating                                             Review  r\n",
       "1       5  I hope a lot of people hear this cd. We need m...  1\n",
       "2       5  I'm reading a lot of reviews saying that this ...  1\n",
       "3       4  The music of Yasunori Misuda is without questi...  1\n",
       "4       5  Probably the greatest soundtrack in history! U...  1\n",
       "5       5  There's a reason this CD is so expensive, even...  1"
      ]
     },
     "execution_count": 10,
     "metadata": {},
     "output_type": "execute_result"
    }
   ],
   "source": [
    "data_filtered[\"r\"]=1\n",
    "data_filtered[\"r\"][data_filtered[\"Rating\"].isin([1,2])]= 0\n",
    "data_filtered.head()"
   ]
  },
  {
   "cell_type": "code",
   "execution_count": null,
   "id": "ae2087db",
   "metadata": {
    "id": "ae2087db",
    "outputId": "a0df469f-f0f2-4224-ab62-0641387d6c40",
    "scrolled": true
   },
   "outputs": [
    {
     "data": {
      "text/plain": [
       "50834    0\n",
       "43823    1\n",
       "10766    1\n",
       "32830    1\n",
       "30674    0\n",
       "Name: r, dtype: int64"
      ]
     },
     "execution_count": 11,
     "metadata": {},
     "output_type": "execute_result"
    }
   ],
   "source": [
    "from sklearn.model_selection import train_test_split\n",
    "X_train_data,x_test_data,Y_train_data,y_test_data=train_test_split(data_filtered[\"Review\"],data_filtered[\"r\"],test_size=0.2)\n",
    "Y_train_data.head()"
   ]
  },
  {
   "cell_type": "code",
   "execution_count": null,
   "id": "2965bc91",
   "metadata": {
    "id": "2965bc91",
    "outputId": "67bc0b14-41d7-43ec-cc0a-6d1598d1804e",
    "scrolled": true
   },
   "outputs": [
    {
     "data": {
      "text/plain": [
       "50834    Fabulous cast in an awful movie. Since I was b...\n",
       "43823    The main reason to get this movie is to hear t...\n",
       "10766    This is a really, really good book. The format...\n",
       "32830    Definitely not a modern read, but that can be ...\n",
       "30674    As a pharmacy-tech instructor, I've used this ...\n",
       "Name: Review, dtype: object"
      ]
     },
     "execution_count": 12,
     "metadata": {},
     "output_type": "execute_result"
    }
   ],
   "source": [
    "X_train_data.head()"
   ]
  },
  {
   "cell_type": "code",
   "execution_count": null,
   "id": "9e5239b1",
   "metadata": {
    "id": "9e5239b1",
    "outputId": "91804e92-a6a5-452a-e2c2-745b344b7997"
   },
   "outputs": [
    {
     "data": {
      "text/plain": [
       "CountVectorizer(stop_words='english')"
      ]
     },
     "execution_count": 13,
     "metadata": {},
     "output_type": "execute_result"
    }
   ],
   "source": [
    "from sklearn.feature_extraction.text import CountVectorizer,TfidfVectorizer\n",
    "count_vector=CountVectorizer(stop_words=\"english\")\n",
    "count_vector.fit(X_train_data)"
   ]
  },
  {
   "cell_type": "code",
   "execution_count": null,
   "id": "116fcedc",
   "metadata": {
    "id": "116fcedc",
    "outputId": "81d9e98a-3392-4241-fd67-2357db024989"
   },
   "outputs": [
    {
     "name": "stdout",
     "output_type": "stream",
     "text": [
      "['00', '000', '00000', '00000000001', '000fortunately', '000kb', '000th', '001', '002', '007', '0070412901', '0072316373', '008', '00pm', '00s', '01', '010', '011', '016071', '0199558292there']\n",
      "['zzzzzzzzzzz', 'zzzzzzzzzzzzzzzz', 'zzzzzzzzzzzzzzzzzzzzzzzzzzzzzzzzzzzzzzzzzzzzzzzzzzzzzzzzzzzzzzzzzzzzzzzzzzzz', 'álbum', 'álbums', 'èyui', 'école', 'égal', 'émerveillera', 'éperons', 'época', 'ésta', 'était', 'étoiles', 'étranger', 'été', 'éveil', 'éviter', 'éxitos', 'última']\n"
     ]
    }
   ],
   "source": [
    "print(count_vector.get_feature_names()[0:20])\n",
    "print(count_vector.get_feature_names()[-20:])"
   ]
  },
  {
   "cell_type": "code",
   "execution_count": null,
   "id": "f30e93dc",
   "metadata": {
    "id": "f30e93dc",
    "outputId": "c48bd0b6-9dc6-4875-c6fc-0804b6a77191"
   },
   "outputs": [
    {
     "data": {
      "text/plain": [
       "(32000, 58555)"
      ]
     },
     "execution_count": 15,
     "metadata": {},
     "output_type": "execute_result"
    }
   ],
   "source": [
    "X_train_data_new=count_vector.transform(X_train_data)\n",
    "X_train_data_new.shape\n"
   ]
  },
  {
   "cell_type": "code",
   "execution_count": null,
   "id": "e550d2f0",
   "metadata": {
    "id": "e550d2f0"
   },
   "outputs": [],
   "source": [
    "x_test_data_new=count_vector.transform(x_test_data)\n"
   ]
  },
  {
   "cell_type": "code",
   "execution_count": null,
   "id": "cfb61c6c",
   "metadata": {
    "id": "cfb61c6c",
    "outputId": "e98f2484-4682-4483-fe8f-57c289713380"
   },
   "outputs": [
    {
     "data": {
      "text/plain": [
       "MultinomialNB()"
      ]
     },
     "execution_count": 17,
     "metadata": {},
     "output_type": "execute_result"
    }
   ],
   "source": [
    "# 1) Multinomial\n",
    "from sklearn.naive_bayes import MultinomialNB\n",
    "mul_model = MultinomialNB()\n",
    "mul_model.fit(X_train_data_new,Y_train_data)\n"
   ]
  },
  {
   "cell_type": "code",
   "execution_count": null,
   "id": "8dc79261",
   "metadata": {
    "id": "8dc79261",
    "outputId": "173eb46a-bd1d-4083-e578-83f0d80da5be"
   },
   "outputs": [
    {
     "data": {
      "text/plain": [
       "0.806625"
      ]
     },
     "execution_count": 18,
     "metadata": {},
     "output_type": "execute_result"
    }
   ],
   "source": [
    "from sklearn.metrics import classification_report,accuracy_score,confusion_matrix\n",
    "predictions = dict()\n",
    "\n",
    "predictions[\"Multinomial\"] = mul_model.predict(x_test_data_new)\n",
    "accuracy_score(y_test_data, predictions[\"Multinomial\"])"
   ]
  },
  {
   "cell_type": "code",
   "execution_count": null,
   "id": "2c4d2914",
   "metadata": {
    "id": "2c4d2914",
    "outputId": "83da3b2d-fbf1-4175-cec0-ab4fdeee3254"
   },
   "outputs": [
    {
     "data": {
      "text/plain": [
       "array([1, 0, 1, ..., 1, 1, 0], dtype=int64)"
      ]
     },
     "execution_count": 19,
     "metadata": {},
     "output_type": "execute_result"
    }
   ],
   "source": [
    "predictions[\"Multinomial\"]"
   ]
  },
  {
   "cell_type": "code",
   "execution_count": null,
   "id": "d1f3b3d8",
   "metadata": {
    "id": "d1f3b3d8",
    "outputId": "c9a7a4e7-0cba-4578-f24c-34ddf424e27a"
   },
   "outputs": [
    {
     "data": {
      "text/plain": [
       "BernoulliNB()"
      ]
     },
     "execution_count": 20,
     "metadata": {},
     "output_type": "execute_result"
    }
   ],
   "source": [
    " #2)BernoulliNB\n",
    "from sklearn.naive_bayes import BernoulliNB\n",
    "ber_model = BernoulliNB()\n",
    "ber_model.fit(X_train_data_new,Y_train_data)"
   ]
  },
  {
   "cell_type": "code",
   "execution_count": null,
   "id": "704644d6",
   "metadata": {
    "id": "704644d6",
    "outputId": "93a8b023-1b3a-4c5b-fd75-67c83274c1e5"
   },
   "outputs": [
    {
     "data": {
      "text/plain": [
       "0.81025"
      ]
     },
     "execution_count": 21,
     "metadata": {},
     "output_type": "execute_result"
    }
   ],
   "source": [
    "predictions[\"BernoulliNB\"]=ber_model.predict(x_test_data_new)\n",
    "accuracy_score(y_test_data,predictions[\"BernoulliNB\"])"
   ]
  },
  {
   "cell_type": "code",
   "execution_count": null,
   "id": "a67ebe6a",
   "metadata": {
    "id": "a67ebe6a",
    "outputId": "40c71656-e537-4eed-c5b6-c8ea4fd2d8b5"
   },
   "outputs": [
    {
     "data": {
      "text/plain": [
       "array([1, 0, 1, ..., 1, 1, 0], dtype=int64)"
      ]
     },
     "execution_count": 22,
     "metadata": {},
     "output_type": "execute_result"
    }
   ],
   "source": [
    "predictions[\"BernoulliNB\"]"
   ]
  },
  {
   "cell_type": "code",
   "execution_count": null,
   "id": "faaa2ba4",
   "metadata": {
    "id": "faaa2ba4"
   },
   "outputs": [],
   "source": []
  }
 ],
 "metadata": {
  "colab": {
   "provenance": []
  },
  "kernelspec": {
   "display_name": "Python 3 (ipykernel)",
   "language": "python",
   "name": "python3"
  },
  "language_info": {
   "codemirror_mode": {
    "name": "ipython",
    "version": 3
   },
   "file_extension": ".py",
   "mimetype": "text/x-python",
   "name": "python",
   "nbconvert_exporter": "python",
   "pygments_lexer": "ipython3",
   "version": "3.9.7"
  }
 },
 "nbformat": 4,
 "nbformat_minor": 5
}
